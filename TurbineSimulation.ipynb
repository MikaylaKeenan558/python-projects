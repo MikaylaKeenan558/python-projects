{
  "cells": [
    {
      "cell_type": "code",
      "execution_count": null,
      "metadata": {
        "id": "n5MLNyL7yGYE"
      },
      "outputs": [],
      "source": [
        "import numpy as np\n",
        "from scipy.optimize import fsolve\n",
        "from scipy.integrate import quad"
      ]
    },
    {
      "cell_type": "markdown",
      "source": [
        "#Input Values"
      ],
      "metadata": {
        "id": "7W2ZsdDLFbhF"
      }
    },
    {
      "cell_type": "markdown",
      "metadata": {
        "id": "MGqLoMFwyGYG"
      },
      "source": [
        "Now, we need to give our input conditions and the constants that we are going to use.\n",
        "\n",
        "Paper conditions are:\n",
        "\n",
        "| Description| Unit| High Pressure (Point 11-12')| Intermediate Pressure (Point 13-18) |Low Pressure (Point 15-16) |\n",
        "|----------|----------|----------|----------|----------|\n",
        "|   Steam Inlet Pressure | bar    | 300     | 83.07        | 11.99        |\n",
        "|   Steam Inlet Temperature | °C  | 600     | 600          |  600        |\n",
        "|   Steam Outlet Pressure | bar   | 83.07   | 11.99         | 0.10        |\n",
        "|   Steam Outlet Temperature | °C | 395.5   | 320.1        | 73.35        |\n",
        "\n",
        "\\\n",
        "\n",
        "| Description| Unit| High Pressure (Point 11-12')| Intermediate Pressure (Point 13-18) |Low Pressure (Point 15-16) |\n",
        "|----------|----------|----------|----------|----------|\n",
        "|   Steam Inlet Enthalpy |  kJ/kg   | 3443   | 3639 | 3697  |\n",
        "|   Steam Outlet Enthalpy |  kJ/kg  | 3119   | 3089 | 2636  |\n"
      ]
    },
    {
      "cell_type": "markdown",
      "source": [
        "## Report Input Values"
      ],
      "metadata": {
        "id": "EPddAiBiGHP0"
      }
    },
    {
      "cell_type": "code",
      "execution_count": null,
      "metadata": {
        "id": "UehSEllHyGYG"
      },
      "outputs": [],
      "source": [
        "### Input conditions from Report:\n",
        "\n",
        "# # High pressure (11 -> 12)\n",
        "# P1 = 10 # in bar\n",
        "# T1 = 1200 # in Celsius\n",
        "# P2 = 4 # in bar\n",
        "# T2 = 1100 # in Celsius\n",
        "\n",
        "# ## Intermediate pressure (13 -> 18)\n",
        "# P1 = 83.07 # in bar\n",
        "# T1 = 600 # in Celsius\n",
        "# P2 = 11.99 # in bar\n",
        "# T2 = 320.1 # in Celsius\n",
        "\n",
        "# # Low pressure (15 -> 16)\n",
        "# P1 = 11.99 # in bar\n",
        "# T1 = 600 # in Celsius\n",
        "# P2 = 0.10 # in bar\n",
        "# T2 = 73.35 # in Celsius\n"
      ]
    },
    {
      "cell_type": "markdown",
      "source": [
        "## Steam Tables Input Values"
      ],
      "metadata": {
        "id": "kTBiiNOSGNJo"
      }
    },
    {
      "cell_type": "code",
      "source": [
        "### Input conditions from Steam Tables:\n",
        "\n",
        "# # High pressure ST\n",
        "# P1 = 200 # in bar\n",
        "# T1 = 400 # in Celsius\n",
        "# P2 = 50 # in bar\n",
        "# T2 = 300 # in Celsius\n",
        "\n",
        "# ## Intermediate pressure ST\n",
        "# P1 = 10 # in bar\n",
        "# T1 = 400 # in Celsius\n",
        "# P2 = 4 # in bar\n",
        "# T2 = 300 # in Celsius\n",
        "\n",
        "# Low pressure ST\n",
        "P1 = 10 # in bar\n",
        "T1 = 1200 # in Celsius\n",
        "P2 = 4 # in bar\n",
        "T2 = 1100 # in Celsius"
      ],
      "metadata": {
        "id": "9Dgu06OjCZxZ"
      },
      "execution_count": null,
      "outputs": []
    },
    {
      "cell_type": "markdown",
      "source": [
        "## User Input Code"
      ],
      "metadata": {
        "id": "LFINzmaVGRYi"
      }
    },
    {
      "cell_type": "code",
      "source": [
        "species = 'H2O' # enter the name of the species here\n",
        "\n",
        "# #User Input (Commenting it out for now to test and run code more effeciently)\n",
        "# P1 = input(\"Enter the value for inital pressure in bar: \") # in bar\n",
        "# P1=int(P1)\n",
        "# T1 = input(\"Enter the value for inital temperature in Celsius: \") # in Celsius\n",
        "# T1=int(T1)\n",
        "\n",
        "# ## final pressure and volume\n",
        "# P2 = input(\"Enter the value for final pressure in bar: \") # in bar\n",
        "# P2=int(P2)\n",
        "# T2 = input(\"Enter the value for final temperature in Celsius: \") # in bar # in Celsius\n",
        "# T2=int(T2)\n",
        "\n",
        "# species = input(\"Enter name of species: H2O, N2, O2, CO2, C2H6\") # enter the name of the species here"
      ],
      "metadata": {
        "id": "S6V7I25qCaG9"
      },
      "execution_count": null,
      "outputs": []
    },
    {
      "cell_type": "markdown",
      "source": [
        "#Critical Values"
      ],
      "metadata": {
        "id": "J6xi6yKsF65j"
      }
    },
    {
      "cell_type": "markdown",
      "metadata": {
        "id": "vQwnkI9ryGYG"
      },
      "source": [
        "Since we would be looking at different species besides water, we elected to include a prototype that will have the critical points and important properties for water. Use critical constants values from Appendix A of Koretsky."
      ]
    },
    {
      "cell_type": "code",
      "execution_count": null,
      "metadata": {
        "id": "lv5cMkT_yGYG"
      },
      "outputs": [],
      "source": [
        "def properties(species):\n",
        "    \"\"\"Data for the critical temperature and pressure of a species\"\"\"\n",
        "    # YOUR CODE STARTS HERE\n",
        "    if species in np.array(['H2O','water']):\n",
        "      T_c = 647.3 # critical temperature of Water (in Kelvin)\n",
        "      P_c = 220.48e5 # critical pressure of Water (in Pascals)\n",
        "      MW = 18.015e-3 #Molecular weight of Water kg/gmol\n",
        "      w = 0.344 #Pitzer acentric factor of Water (important for Peng-Robinson EOS)\n",
        "    elif species in np.array(['N2']):\n",
        "      T_c = 126.2 #K\n",
        "      P_c = 33.84e5 #Pa\n",
        "      MW = 28.0134e-3 #molecular weight of N2 kg/mol\n",
        "      w = 0.039 #Pitzer acentric factor\n",
        "    elif species in np.array(['O2']):\n",
        "      T_c = 154.6 #K\n",
        "      P_c = 50.46e5 #Pa\n",
        "      MW = 31.999e-3 #molecular weight of O2 kg/mol\n",
        "      w = 0.021 #Pitzer acentric factor\n",
        "    elif species in np.array(['CO2']):\n",
        "      T_c = 304.2 #K\n",
        "      P_c = 73.76e5 #Pa\n",
        "      MW = 44.010e-3 #molecular weight of CO2 kg/mol\n",
        "      w = 0.225 #Pitzer acentric factor\n",
        "    elif species in np.array(['H2']):\n",
        "      T_c = 33.2 #K\n",
        "      P_c = 12.97e5 #Pa\n",
        "      MW = 2.016e-3 #MW kg/mol\n",
        "      w = -0.22 #Pitzer acentric factor\n",
        "    elif species in np.array(['C2H6']):\n",
        "      T_c = 305.4 #K\n",
        "      P_c = 48.74e5 #Pa\n",
        "      MW = 30.069e-3 #MW kg/mol\n",
        "      w = 0.099 #Pitzer acentric factor\n",
        "    elif species in np.array(['NH3']):\n",
        "      T_c = 405.6 #K\n",
        "      P_c = 112.77e5 #Pa\n",
        "      MW = 17.031e-3 #MW kg/mol\n",
        "      w = 0.250 #Pitzer acentric factor\n",
        "    return (T_c, P_c, w, MW)\n"
      ]
    },
    {
      "cell_type": "markdown",
      "metadata": {
        "id": "lgRKiVgCyGYI"
      },
      "source": [
        "# Peng-Robinson Equation of S:\n",
        "$$P = \\frac{RT}{v-b} -\\frac{aα}{v^2+2bv-b^2}$$\n",
        "where\n",
        "$$ a=0.45724\\frac{(RTc)^2}{Pc},$$\n",
        "$$ b=0.07780\\frac{RTc}{Pc},$$\n",
        "$$ α=[1+\\kappa(1-\\sqrt{\\frac{T}{Tc}}]^2$$\n",
        "$$ K = 0.37464 +1.54226ω - 0.26992ω^2$$"
      ]
    },
    {
      "cell_type": "code",
      "execution_count": null,
      "metadata": {
        "id": "gXmM0AvwyGYI",
        "colab": {
          "base_uri": "https://localhost:8080/"
        },
        "outputId": "25f37719-0b44-41d0-b509-c3647aa22fd5"
      },
      "outputs": [
        {
          "output_type": "stream",
          "name": "stdout",
          "text": [
            "(647.3, 22048000.0, 0.344, 0.018015)\n"
          ]
        }
      ],
      "source": [
        "print(properties(species))\n",
        "def P_PR(T, v, species):\n",
        "    \"\"\"Compute the pressure from PR EOS\"\"\"\n",
        "    # YOUR CODE STARTS HERE\n",
        "    T_c, P_c, w, MW  = properties(species)\n",
        "    T_K = T + 273.15 # temperature converted from Celcius to Kelvin\n",
        "    R_gas = 8.314 # gas constant in J K^-1 mol^-1\n",
        "    a = 0.45724 * (R_gas * T_c)**2 /P_c # units = m^6*Pa/mol^2 (Note that to get an exponent, use '**' notation )\n",
        "    b = 0.07780 * R_gas * T_c / P_c # units = m^3/mol\n",
        "    k = 0.37464 + 1.54226*w - 0.26992*w**2\n",
        "    alpha = (1 + k * (1 - np.sqrt(T_K/T_c)) )**2\n",
        "\n",
        "    P = ((R_gas * T_K)/(v - b)) - ((a * alpha)/(v**2 + 2 * b * v - b**2)) # in Pa\n",
        "    return P"
      ]
    },
    {
      "cell_type": "markdown",
      "metadata": {
        "id": "dPTFKjpTyGYI"
      },
      "source": [
        "# Ideal Gas Law\n",
        "\n",
        "$$ v = \\frac{R T}{P} $$\n",
        "\n",
        "We will need this later to determine a good guess for $v$ using the given conditions."
      ]
    },
    {
      "cell_type": "code",
      "execution_count": null,
      "metadata": {
        "id": "qgYwfB8uyGYI"
      },
      "outputs": [],
      "source": [
        "def v_ideal(P,T):\n",
        "    \"\"\"Molar volume from the ideal gas law\"\"\"\n",
        "    R_gas = 8.314 # gas constant in J K^-1 mol^-1\n",
        "    P_Pa = P * 1e5 # convert bar to Pa\n",
        "    T_K = 273.15 + T\n",
        "    v = R_gas * T_K / P_Pa # in m^3/mol\n",
        "    return v"
      ]
    },
    {
      "cell_type": "markdown",
      "metadata": {
        "id": "yp5mzhBQyGYI"
      },
      "source": [
        "# Solving for the Molar Volume\n"
      ]
    },
    {
      "cell_type": "code",
      "execution_count": null,
      "metadata": {
        "id": "Fkyi_CaGyGYJ"
      },
      "outputs": [],
      "source": [
        "def PR_v_func(v, P, T, species = species): # While writing equation of state functions, follow the sequenece: v,P,T\n",
        "    # YOUR CODE STARTS HERE\n",
        "    RHS = P_PR(T, v, species) # pressure from PR EOS, given the T and v\n",
        "    LHS = P*1e5 # given pressure in Pa\n",
        "    return LHS-RHS"
      ]
    },
    {
      "cell_type": "markdown",
      "metadata": {
        "id": "Q0UvqdKlyGYJ"
      },
      "source": [
        "Now we will solve for $v$ using PR\n",
        " EOS. We will use the $v$ from the ideal gas law as a guess"
      ]
    },
    {
      "cell_type": "code",
      "execution_count": null,
      "metadata": {
        "id": "h13m4gjbyGYJ",
        "colab": {
          "base_uri": "https://localhost:8080/"
        },
        "outputId": "3ccbc7da-b2c6-42d6-d660-4ba2f7dcf2ea"
      },
      "outputs": [
        {
          "output_type": "stream",
          "name": "stdout",
          "text": [
            "[0.01225168]\n"
          ]
        }
      ],
      "source": [
        "args1 = (P1,T1) # additional arguments for the function\n",
        "                # (NOTE: The sequence of writing the additional arguments\n",
        "                # should be same as you have written in function defination)\n",
        "\n",
        "v01 = v_ideal(*args1) # initial guess for volume\n",
        "                      # (NOTE: It is important to use correct initial guess\n",
        "                      # to get the volume. For starters, use Ideal gas volume\n",
        "                      # as an initial guess)\n",
        "\n",
        "# volume for state 1\n",
        "v1= fsolve(PR_v_func,v01,args1)\n",
        "\n",
        "print(v1)\n",
        "\n",
        "# volume for state 2\n",
        "args2 = (P2,T2)\n",
        "v02 = v_ideal(*args2)\n",
        "v2 = fsolve(PR_v_func,v02,args2)"
      ]
    },
    {
      "cell_type": "markdown",
      "metadata": {
        "id": "mDMzd5mNyGYJ"
      },
      "source": [
        "# Print Results"
      ]
    },
    {
      "cell_type": "markdown",
      "metadata": {
        "id": "JV8oqZOUyGYJ"
      },
      "source": [
        "We will need to print $v$. Here is a code that will do it (no need to change it):"
      ]
    },
    {
      "cell_type": "code",
      "execution_count": null,
      "metadata": {
        "id": "hbVrd9spyGYJ",
        "outputId": "2d2d9a09-e724-45ee-b232-824ebc52c68a",
        "colab": {
          "base_uri": "https://localhost:8080/"
        }
      },
      "outputs": [
        {
          "output_type": "stream",
          "name": "stdout",
          "text": [
            "Results for H2O:\n",
            "--------------------------------------------------------------------------\n",
            "| State | Temperature (C) | Pressure (bar) | Specific Volume (m^3 kg^-1) |\n",
            "--------------------------------------------------------------------------\n",
            "|   1   |     1200.00     |     10.00      |          0.680082           |\n",
            "|   2   |     1100.00     |      4.00      |          1.584287           |\n",
            "--------------------------------------------------------------------------\n"
          ]
        }
      ],
      "source": [
        "def print_specific_volume(v, T, p, species):\n",
        "    \"\"\"Print the specific volume, temperature, and pressure of the species\"\"\"\n",
        "    T_c, P_c, w, MW  = properties(species)\n",
        "    print(f'Results for {species}:')\n",
        "    num_lin = 74 * '-'\n",
        "    print(num_lin)\n",
        "    print('| State | Temperature (C) | Pressure (bar) | Specific Volume (m^3 kg^-1) |')\n",
        "    print(num_lin)\n",
        "    for l in range(T.shape[0]):\n",
        "        print(f'|{l + 1:^7.0f}|{T[l]:^17.2f}|{p[l]:^16.2f}|{v[l]/MW:^29.6f}|')\n",
        "    print(num_lin)\n",
        "    return None\n",
        "\n",
        "v_array = np.array([v1[0], v2[0]])\n",
        "T_array = np.array([T1, T2])\n",
        "p_array = np.array([P1, P2])\n",
        "print_specific_volume(v_array, T_array, p_array, species)"
      ]
    },
    {
      "cell_type": "markdown",
      "metadata": {
        "id": "6z1RmRDWyGYJ"
      },
      "source": [
        "Check your results with the values in Steam tables. They are matching, aren't they?"
      ]
    },
    {
      "cell_type": "markdown",
      "source": [
        "# Integrating Heat Capacities"
      ],
      "metadata": {
        "id": "-RhnBNrZqHQ1"
      }
    },
    {
      "cell_type": "code",
      "source": [
        "import numpy as np\n",
        "from scipy.optimize import fsolve  # Solves for one unknown if one equation is given\n",
        "from scipy.integrate import quad  # Solver that is used for integration\n",
        "\n",
        "# Creating parameters for calculating heat capacities\n",
        "def CpParams(species):\n",
        "    if species in np.array(['H2O', 'water']):\n",
        "        A = 3.470\n",
        "        B = 0.00145\n",
        "        C = 0.0\n",
        "        D = 12100\n",
        "        E = 0.0\n",
        "    elif species in np.array(['N2']):\n",
        "        A = 3.280\n",
        "        B = 0.000593\n",
        "        C = 0.0\n",
        "        D = 4000\n",
        "        E = 0.0\n",
        "    elif species in np.array(['O2']):\n",
        "        A = 3.639\n",
        "        B = 0.000506\n",
        "        C = 0.0\n",
        "        D = -22700\n",
        "        E = 0.0\n",
        "    elif species in np.array(['CO2']):\n",
        "        A = 5.457\n",
        "        B = 0.001045\n",
        "        C = 0.0\n",
        "        D = -115700\n",
        "        E = 0.0\n",
        "    elif species in np.array(['C2H6']):\n",
        "        A = 1.131\n",
        "        B = 0.019225\n",
        "        C = -0.000005561\n",
        "        D = 0.0\n",
        "        E = 0.0\n",
        "    elif species in np.array(['H2']):\n",
        "        A = 3.639\n",
        "        B = 0.000422\n",
        "        C = 0.0\n",
        "        D = -8300\n",
        "        E = 0.0\n",
        "    elif species in np.array(['NH3']):\n",
        "        A = 3.5778\n",
        "        B = 0.00302\n",
        "        C = 0.0\n",
        "        D = -18600\n",
        "        E = 0.0\n",
        "    return (A, B, C, D, E)\n",
        "\n",
        "# Defining a function to calculate the heat capacities\n",
        "A, B, C, D, E = CpParams(species)\n",
        "def CpCalc(T, A, B, C, D, E):\n",
        "    T = T + 273.15 # need to convert celcius to kelvin\n",
        "    R = 0.008314  # the gas constant in units of Kj mol K^-1\n",
        "    Cp = R * (A + (B * T) + (C * T**2) + (D * (T**(-2))) + (E * (T**3)))\n",
        "    return Cp\n",
        "\n",
        "h_ig, _ = quad(CpCalc,T1,T2, args = (A, B, C, D, E))\n",
        "h_ig = h_ig *1000\n",
        "print('The integrated Cp is', h_ig, 'J mol^-1 for',species)\n"
      ],
      "metadata": {
        "colab": {
          "base_uri": "https://localhost:8080/"
        },
        "id": "GqoK71qpp-y6",
        "outputId": "59d8f01b-8a30-4cd5-a9a5-1a7ed517c0ce"
      },
      "execution_count": null,
      "outputs": [
        {
          "output_type": "stream",
          "name": "stdout",
          "text": [
            "The integrated Cp is -4605.581156681005 J mol^-1 for H2O\n"
          ]
        }
      ]
    },
    {
      "cell_type": "markdown",
      "metadata": {
        "id": "h2m0EsylyGYK"
      },
      "source": [
        "# Departure functions for the PR EOS\n",
        "Departure functions:\n",
        "\n",
        "$$\\displaystyle \\Delta h' (T,P) = - \\int_\\infty ^v \\left[ T \\left(\\frac{\\partial P}{\\partial T}\\right)_v +v \\left(\\frac{\\partial P}{\\partial v}\\right)_T \\right] dv$$\n",
        "\n",
        "$$\\displaystyle \\Delta s' (T,P) = - \\int_\\infty^v \\left[\n",
        " \\left( \\frac{\\partial P}{\\partial T} \\right)_v - \\left(\\frac{R}{v}\\right) \\right] dv - R \\ln \\left( \\frac{Pv}{RT}\\right)$$"
      ]
    },
    {
      "cell_type": "markdown",
      "metadata": {
        "id": "wQB7YW2byGYK"
      },
      "source": [
        "Using the PR EOS, we can derive $\\left( \\frac{\\partial P}{\\partial T} \\right)_v$ and $\\left(\\frac{\\partial P}{\\partial v}\\right)_T$.\n",
        "\n",
        "They are:\n",
        "$$ \\left( \\frac{\\partial P}{\\partial T} \\right)_v  = \\frac{R}{v - b}$$\n",
        "$$ \\left(\\frac{\\partial P}{\\partial v}\\right)_T = -\\left( \\frac{2aα(b+v)}{(v^2+2bv-b^2)^2} - \\frac{RT}{(b-v)^2} \\right)$$\n",
        "\n",
        "We will solve for $\\Delta h' (T,P)$ and $\\Delta s' (T,P)$:"
      ]
    },
    {
      "cell_type": "code",
      "execution_count": null,
      "metadata": {
        "id": "8O52cSeyyGYK"
      },
      "outputs": [],
      "source": [
        "def dhprim_integrand(v, T, species):\n",
        "    \"\"\"Integrand for the Departure Function for enthalpy\"\"\"\n",
        "    T_c, P_c, w, MW = properties(species)\n",
        "    R_gas = 8.314\n",
        "    a = 0.45724 * (R_gas * T_c)**2 / P_c\n",
        "    b = 0.07780 * R_gas * T_c / P_c\n",
        "    T_r = T / T_c #reduced temperature\n",
        "    k = 0.37464 + 1.54226 * w - 0.26992 * w**2\n",
        "    alpha = (1 + k * (1 - np.sqrt(T_r)))**2\n",
        "\n",
        "    #derivatives\n",
        "    dalpha_dT = -k * np.sqrt(alpha / (T_r)) / T_c\n",
        "    dP_dT = R_gas / (v - b) - dalpha_dT * (a / (v**2 + 2 * v * b - b**2))\n",
        "    dP_dv = - (R_gas * T / (v - b)**2 - (2 * a * alpha * (v + b)) / (v**2 + 2 * v * b - b**2)**2)\n",
        "\n",
        "    #integrand\n",
        "    integrand = dP_dT * T + dP_dv * v  # in J/mol\n",
        "    return integrand\n",
        "\n",
        "def dsprim_integrand(v, T, species):\n",
        "    \"\"\"Integrand for the Departure Function for entropy\"\"\"\n",
        "    T_c, P_c, w, MW = properties(species)\n",
        "    R_gas = 8.314\n",
        "    a = 0.45724 * (R_gas * T_c)**2 / P_c\n",
        "    b = 0.07780 * R_gas * T_c / P_c\n",
        "    T_r = T / T_c #reduced temperature\n",
        "    k = 0.37464 + 1.54226 * w - 0.26992 * w**2\n",
        "    alpha = (1 + k * (1 - np.sqrt(T_r)))**2\n",
        "\n",
        "    #derivatives\n",
        "    dalpha_dT = -k * np.sqrt(alpha / (T_r)) / T_c\n",
        "    dP_dT = R_gas / (v - b) - dalpha_dT * (a / (v**2 + 2 * v * b - b**2))\n",
        "\n",
        "    #integrand\n",
        "    integrand = dP_dT - R_gas / v  # in J/mol\n",
        "    return integrand\n",
        "\n",
        "def dh_ds_prim(v, T, P, species):\n",
        "    \"\"\"Departure function values for dh' and ds'\"\"\"\n",
        "    T_K = T + 273.15\n",
        "    P_Pa = P * 1e5  # in Pa\n",
        "    arguments = (T_K, species)\n",
        "    R_gas = 8.314\n",
        "\n",
        "    #Dh departure function\n",
        "    dh_prime = -quad(dhprim_integrand, v, np.inf, args=arguments)[0]\n",
        "\n",
        "    #Ds departure function\n",
        "    ds_integral = quad(dsprim_integrand, v, np.inf, args=arguments)[0]\n",
        "    ds_prime = -ds_integral + R_gas * np.log(P_Pa * v / (R_gas * T_K))\n",
        "    return (dh_prime, ds_prime)\n"
      ]
    },
    {
      "cell_type": "markdown",
      "metadata": {
        "id": "YpsZIPK8yGYK"
      },
      "source": [
        "# Print the results"
      ]
    },
    {
      "cell_type": "code",
      "execution_count": null,
      "metadata": {
        "id": "Xc-ICPbayGYK",
        "outputId": "d5fa2ca3-0e42-42b4-8ca8-0559d6d2431c",
        "colab": {
          "base_uri": "https://localhost:8080/"
        }
      },
      "outputs": [
        {
          "output_type": "stream",
          "name": "stdout",
          "text": [
            "Results for H2O:\n",
            "------------------------------------------------\n",
            "| State | Dh' (J mol-1) | Ds' (J  mol^-1 K^-1) |\n",
            "------------------------------------------------\n",
            "|   1   |    -47.058    |       -0.035        |\n",
            "|   2   |    -23.691    |       -0.017        |\n",
            "------------------------------------------------\n"
          ]
        }
      ],
      "source": [
        "def partion_func_results(v, T, p, species):\n",
        "    \"\"\"Print results for the entropy and enthalpy partion functions\"\"\"\n",
        "    h_array=[]\n",
        "    s_array=[]\n",
        "    print(f'Results for {species}:')\n",
        "    num_lin = 48 * '-'\n",
        "    print(num_lin)\n",
        "    print(\"| State | Dh' (J mol-1) | Ds' (J  mol^-1 K^-1) |\")\n",
        "    print(num_lin)\n",
        "    for l in range(T.shape[0]):\n",
        "        h, s = dh_ds_prim(v[l], T[l], p[l], species)\n",
        "        h_array += h,\n",
        "        s_array += s,\n",
        "        print(f'|{l + 1:^7.0f}|{h:^15.3f}|{s:^21.3f}|')\n",
        "    print(num_lin)\n",
        "    return (np.array(h_array), np.array(s_array))\n",
        "h_array,s_array = partion_func_results(v_array, T_array, p_array, species)\n"
      ]
    },
    {
      "cell_type": "markdown",
      "source": [
        "# Finding the entropy change from state 1 to state 2:\n",
        "\n",
        "$$\\displaystyle  s_2 - s_1 = \\int_{T_1}^{T_2}\n",
        " \\left( \\frac{Cp}{T} \\right) dT - R \\ln \\left( \\frac{P_2}{P_1}\\right)$$\n",
        "\n",
        "# the integral will be labeled \"integral\" in the code, while the -Rln will be labeled \"constant\""
      ],
      "metadata": {
        "id": "FkA9cByWUVL8"
      }
    },
    {
      "cell_type": "code",
      "source": [
        "def Cp_TdT(T1, T2, species):\n",
        "    \"\"\"Calculating integrated Cp divided by T\"\"\"\n",
        "    R_gas = 8.314\n",
        "    if species in np.array(['N2']):\n",
        "      coeff = np.array([3.280, 0.593e-3,0.04e5])\n",
        "    elif species in np.array(['H2O', 'water']):\n",
        "      coeff = np.array([3.470, 1.45e-3, 0.121e5])\n",
        "    integration = R_gas * (coeff[0] * np.log(T2/T1) + coeff[1] * (T2 - T1) - (coeff[2] / 2) * (1/ T2**2 - 1/T1**2))\n",
        "    return integration\n",
        "\n",
        "T1K = T1 + 273.15\n",
        "T2K = T2 + 273.15\n",
        "integration = Cp_TdT(T1K, T2K, species)\n",
        "entropychange = -s_array[0] + integration + s_array[1]\n",
        "\n",
        "print('The entropy change from state 1 to state 2 is ', entropychange, 'J K^-1 mol^-1')"
      ],
      "metadata": {
        "colab": {
          "base_uri": "https://localhost:8080/"
        },
        "id": "wp5gPQIgUTyU",
        "outputId": "b4c7afba-a8c2-4380-dc59-8d943e5222a5"
      },
      "execution_count": null,
      "outputs": [
        {
          "output_type": "stream",
          "name": "stdout",
          "text": [
            "The entropy change from state 1 to state 2 is  -3.219701128718816 J K^-1 mol^-1\n"
          ]
        }
      ]
    },
    {
      "cell_type": "markdown",
      "source": [
        "# Isentropic Process"
      ],
      "metadata": {
        "id": "Jn03G9zPG5mH"
      }
    },
    {
      "cell_type": "markdown",
      "source": [
        "## Finding the exit temperature if the process were isentropic:\n",
        "\n",
        " $$\\displaystyle  \\int_{T_1}^{T_2 (isentropic)}\n",
        " \\left( \\frac{Cp}{T} \\right) dT = R \\ln \\left( \\frac{P_2}{P_1}\\right)$$\n",
        "\n",
        " # We will be solving for the upper bound variable:\n",
        " $$\\displaystyle T_2 (isentropic) = $$"
      ],
      "metadata": {
        "id": "bRdkaoyP9r1v"
      }
    },
    {
      "cell_type": "code",
      "source": [
        "def s_p(P1, P2):\n",
        "    R_gas = 8.314\n",
        "    s = R_gas * np.log(P2/P1)\n",
        "    return s\n",
        "\n",
        "def solve_isentropic(T2, T1, P1, P2, species):\n",
        "    T1K = T1 + 273.15\n",
        "    T2K = T2 + 273.15\n",
        "    lhs = Cp_TdT(T1K, T2K, species)\n",
        "    rhs = s_p(P1, P2)\n",
        "    return lhs - rhs\n",
        "\n",
        "T_trial = T_array[1]\n",
        "#print(T_trial)\n",
        "arguments = (T_array[0], *p_array, species)\n",
        "P1 = arguments[1]\n",
        "P2 = arguments[2]\n",
        "\n",
        "#print('T array values:', T_array[0], T_array[1])\n",
        "#print(arguments[0], arguments[1], arguments[2], arguments[3])\n",
        "#print(s_p(P1, P2))\n",
        "\n",
        "T_isentropic = fsolve(solve_isentropic, T_trial, arguments)[0]\n",
        "\n",
        "print(f'Isentropic exit temperature for {species}: {T_isentropic:0.2f} C')"
      ],
      "metadata": {
        "colab": {
          "base_uri": "https://localhost:8080/"
        },
        "id": "FJG4EQDv98ab",
        "outputId": "41ffb998-faf2-4eac-fbff-71f60a6465ba"
      },
      "execution_count": null,
      "outputs": [
        {
          "output_type": "stream",
          "name": "stdout",
          "text": [
            "Isentropic exit temperature for H2O: 971.74 C\n"
          ]
        }
      ]
    },
    {
      "cell_type": "markdown",
      "source": [
        "##Isentropic Entropy and Enthalpy"
      ],
      "metadata": {
        "id": "hOLen906G_3W"
      }
    },
    {
      "cell_type": "code",
      "source": [
        "T2 = T_isentropic\n",
        "args2 = (P2,T2)\n",
        "v02 = v_ideal(*args2)\n",
        "v2 = fsolve(PR_v_func,v02,args2)\n",
        "\n",
        "v_array = np.array([v1[0], v2[0]])\n",
        "T_iso_array = np.array([T1, T2])\n",
        "p_array = np.array([P1, P2])\n",
        "\n",
        "h_iso_ig, _= quad(CpCalc,T_iso_array[0],T_iso_array[1], args = (A, B, C, D, E))\n",
        "h_iso_ig = h_iso_ig * 1000\n",
        "print('The new integrated Cp from T1 to the isentropic exit temperature is',h_iso_ig, 'J mol^-1')\n",
        "\n",
        "print_specific_volume(v_array, T_iso_array, p_array, species)\n",
        "\n",
        "h_iso_array, s_iso_array = partion_func_results(v_array, T_iso_array, p_array, species)\n"
      ],
      "metadata": {
        "colab": {
          "base_uri": "https://localhost:8080/"
        },
        "id": "62t48AL5Pc1A",
        "outputId": "a3f40b54-c654-40c4-8c04-d1640ee1dbab"
      },
      "execution_count": null,
      "outputs": [
        {
          "output_type": "stream",
          "name": "stdout",
          "text": [
            "The new integrated Cp from T1 to the isentropic exit temperature is -10337.431689939742 J mol^-1\n",
            "Results for H2O:\n",
            "--------------------------------------------------------------------------\n",
            "| State | Temperature (C) | Pressure (bar) | Specific Volume (m^3 kg^-1) |\n",
            "--------------------------------------------------------------------------\n",
            "|   1   |     1200.00     |     10.00      |          0.680082           |\n",
            "|   2   |     971.74      |      4.00      |          1.435949           |\n",
            "--------------------------------------------------------------------------\n",
            "Results for H2O:\n",
            "------------------------------------------------\n",
            "| State | Dh' (J mol-1) | Ds' (J  mol^-1 K^-1) |\n",
            "------------------------------------------------\n",
            "|   1   |    -47.058    |       -0.035        |\n",
            "|   2   |    -31.346    |       -0.023        |\n",
            "------------------------------------------------\n"
          ]
        }
      ]
    },
    {
      "cell_type": "markdown",
      "source": [
        "# Creating a code to solve for the work of the turbine:\n",
        "\n",
        "$$ \\displaystyle  w_{turbine} = \\Delta h_{rg} = - \\Delta h_2 + \\Delta h_1 + \\Delta h_{ig} $$"
      ],
      "metadata": {
        "id": "SXkTu3QzXHT4"
      }
    },
    {
      "cell_type": "code",
      "source": [
        "def w_turbine(diff_h1_prim, diff_h2_prim, diff_ig):\n",
        "    \"\"\"Calculate the work of a turbine\"\"\"\n",
        "    w_t = (- diff_h1_prim + diff_ig + diff_h2_prim)\n",
        "    return -w_t\n",
        "\n",
        "def print_w_turbine(T, h1_prim, h2_prim, diff_ig, species):\n",
        "    \"\"\"Print the integrated ideal heat capacity\"\"\"\n",
        "    print(f'Results for {species}:')\n",
        "    num_lin = 47 * '-'\n",
        "    print(num_lin)\n",
        "    print(\"| T_1 (C) | T_2 (C) |  Turbine Work (KJ/mol)  |\")\n",
        "    print(num_lin)\n",
        "    T_1 = T[0] + 273.15\n",
        "    T_2 = T[1] + 273.15\n",
        "    w_t = w_turbine(h1_prim, h2_prim, diff_ig)\n",
        "    print(f'|{T[0]:^9.2f}|{T[1]:^9.2f}|{w_t/1000:^25.3f}|')\n",
        "    print(num_lin)\n",
        "    return w_t\n",
        "\n",
        "w_t = print_w_turbine(T_array, *h_array, h_ig, species)"
      ],
      "metadata": {
        "colab": {
          "base_uri": "https://localhost:8080/"
        },
        "id": "5Xb7xhSMLwv0",
        "outputId": "1b91382e-4b47-455c-eb1d-dc2e3b457afe"
      },
      "execution_count": null,
      "outputs": [
        {
          "output_type": "stream",
          "name": "stdout",
          "text": [
            "Results for H2O:\n",
            "-----------------------------------------------\n",
            "| T_1 (C) | T_2 (C) |  Turbine Work (KJ/mol)  |\n",
            "-----------------------------------------------\n",
            "| 1200.00 | 1100.00 |          4.582          |\n",
            "-----------------------------------------------\n"
          ]
        }
      ]
    },
    {
      "cell_type": "markdown",
      "source": [
        "# Calculate isentropic work:"
      ],
      "metadata": {
        "id": "QYrHpKvSxAuu"
      }
    },
    {
      "cell_type": "code",
      "source": [
        "def w_turbine(diff_h1_prim, diff_h2_prim, diff_ig):\n",
        "    \"\"\"Calculate the work of a turbine\"\"\"\n",
        "    w_t = (- diff_h1_prim + diff_ig + diff_h2_prim)\n",
        "    return -w_t\n",
        "\n",
        "def print_w_turbine(T, h1_prim, h2_prim, diff_ig, species):\n",
        "    \"\"\"Print the integrated ideal heat capacity\"\"\"\n",
        "    print(f'Results for {species}:')\n",
        "    num_lin = 47 * '-'\n",
        "    print(num_lin)\n",
        "    print(\"| T_1 (C) | T_2 (C) |  Turbine Work (KJ/mol)  |\")\n",
        "    print(num_lin)\n",
        "    T_1 = T[0] + 273.15\n",
        "    T_2 = T[1] + 273.15\n",
        "    w_t = w_turbine(h1_prim, h2_prim, diff_ig)\n",
        "    print(f'|{T[0]:^9.2f}|{T[1]:^9.2f}|{w_t/1000:^25.3f}|')\n",
        "    print(num_lin)\n",
        "    return w_t\n",
        "\n",
        "w_t_2 = print_w_turbine(T_iso_array, *h_iso_array, h_iso_ig, species)"
      ],
      "metadata": {
        "colab": {
          "base_uri": "https://localhost:8080/"
        },
        "id": "CJSYoLlZw_ff",
        "outputId": "92b861cf-1201-4924-a2a1-462740236534"
      },
      "execution_count": null,
      "outputs": [
        {
          "output_type": "stream",
          "name": "stdout",
          "text": [
            "Results for H2O:\n",
            "-----------------------------------------------\n",
            "| T_1 (C) | T_2 (C) |  Turbine Work (KJ/mol)  |\n",
            "-----------------------------------------------\n",
            "| 1200.00 | 971.74  |         10.322          |\n",
            "-----------------------------------------------\n"
          ]
        }
      ]
    },
    {
      "cell_type": "markdown",
      "source": [
        "#Efficiency"
      ],
      "metadata": {
        "id": "r1mH6T7nGbf8"
      }
    },
    {
      "cell_type": "code",
      "source": [
        "#Efficiency\n",
        "efficiency = w_t/w_t_2\n",
        "print(f'The efficiency is {efficiency*100:0.2f}%.')"
      ],
      "metadata": {
        "colab": {
          "base_uri": "https://localhost:8080/"
        },
        "id": "y9_42MNZ5bw-",
        "outputId": "82c351ef-48b0-40ec-fb10-223cf7b8bbb3"
      },
      "execution_count": null,
      "outputs": [
        {
          "output_type": "stream",
          "name": "stdout",
          "text": [
            "The efficiency is 44.39%.\n"
          ]
        }
      ]
    }
  ],
  "metadata": {
    "kernelspec": {
      "display_name": "Python 3",
      "language": "python",
      "name": "python3"
    },
    "language_info": {
      "codemirror_mode": {
        "name": "ipython",
        "version": 3
      },
      "file_extension": ".py",
      "mimetype": "text/x-python",
      "name": "python",
      "nbconvert_exporter": "python",
      "pygments_lexer": "ipython3",
      "version": "3.8.3"
    },
    "colab": {
      "provenance": [],
      "collapsed_sections": [
        "LFINzmaVGRYi",
        "J6xi6yKsF65j",
        "lgRKiVgCyGYI",
        "dPTFKjpTyGYI",
        "yp5mzhBQyGYI",
        "mDMzd5mNyGYJ",
        "-RhnBNrZqHQ1",
        "h2m0EsylyGYK"
      ]
    }
  },
  "nbformat": 4,
  "nbformat_minor": 0
}